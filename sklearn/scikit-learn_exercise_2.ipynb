{
 "cells": [
  {
   "cell_type": "markdown",
   "metadata": {},
   "source": [
    "# scikit-learn: Classification - 2\n",
    " >__Created__:  2018 Harrison B. Prosper\n",
    "\n",
    "\n",
    "## Introduction\n",
    "We consider the benchmark task of classifying the $28 \\times 28 = 784$ gray scale pixel images of handwritten digits in the MNIST data set using __supervised learning__. In supervised learning a model is trained (that is, fitted) to data consisting of unambiguously labeled __feature vectors__, here images. For classification the label is the class to which a vector belongs, while for regression the labels are the values associated with the vectors. In the MNIST data set there are $K = 10$ classes, labeled by the digits 0 to 9. The data contains $T = 60,000$ images for training and 10,000 images for testing. Following good practice, we split the training data into a set for training and another for validating the training. The test data are not used in the training.\n",
    "\n",
    "The value of each pixel in the MNIST data set lies in the discrete set $[0, 1, \\cdots, 255]$. Again, following good practice, we rescale each datum so that it lies in the unit interval. In this exercise, the data lie in the (rational) set $D = [0, 1/255, \\cdots, 1]$. The MNIST training data is to be thought of as a sample from some unknown probability distribution $p(t, x)$ defined on the finite discrete space $[0,\\cdots,9] \\times D^{784}$, where the __target__, $t$, is the class label associated with image $x$. ($p(t, x)$ is clearly an abstraction since it is the distribution of an infinite MNIST data set that exists only in the same sense as the set of real numbers.) An image can be conceptualized as a point $x \\in D^{784}$. If we associate each class with a different color, the training data form a swarm of colored points where points of a given color tend to \"flock\" together.\n",
    "\n",
    "In this exercise, a fully connected shallow neural network (SNN) is used to classify the MNIST digits. The training is done with __batches__ of images represented by a 2-index tensor $\\mathbf{x}_{nj}$ of __shape__ $(N, H \\times W)$, i.e., a matrix. The first index (along dimension dim = 0) labels the ordinal value $n$ of an image in a batch of $N$ images, while the second index (along dim = 1) labels the pixels of a *flattened* image of height and width $H$ and $W$, respectively.  \n",
    "\n",
    "### Model\n",
    "Machine learning models often have an aura of mystery about them. But, a sensible perspective can be maintained by remembering that regardless of how their form may have been motivated, these models are, ultimately, just exceedingly complicated non-linear functions. \n",
    "\n",
    "Another point should be noted before we delve into details. Much has been made of the sometimes spectacular failure in the application of machine learning to real-world problems. For example, suppose that a single pixel in an image is changed, say from the value 197/255 to the value 0. This causes the point representing the image in the space $D^{784}$ to suffer a displacement in that space. To the human brain, a single pixel change in a $28 \\times 28$ image is a negligible distortion that does not impair its ability to classify the image, either because the distortion goes unnoticed or it is ignored. But, to a machine learned classifier, a single pixel change could result in a large displacement in the abstract space of images, thereby making the image an outlier whose position is no longer representative of the distribution of *any* of the classes defined by the probability $p(t, x)$. The point is that the classifier depends on the probability $p(t, x)$, therefore, if the latter fails to capture the kinds of outliers one expects in real-world data, it ought not to surprise that the classifier may fail to classify an outlier correctly. \n",
    "\n",
    "One might think that the solution is to train with data that contains outliers. However, it may not be feasible to build a model that captures every sort of potential outlier. Moreover, if outliers in the training data are relatively rare, the training procedure may simply ignore them. A more practical approach might be to devise a way to recognize when an image is an outlier, detect which subsets of pixels are responsible for this and assign to the offending pixels values that are representative of their neighborhood. Having tamed the image in this way, it is then presented to the classifier.\n",
    "\n",
    "In this exercise, we use the following model \n",
    "\n",
    "$$\\mathbf{y} = \\mbox{softmax}(\\,\\mathbf{b}_1 + \\mathbf{w}_1 \\, \\mbox{relu}(\\mathbf{b}_0 + \\mathbf{w}_0 \\, \\mathbf{x}) \\, ),$$\n",
    "\n",
    "where $\\mathbf{b}$ and $\\mathbf{w}$, the biases and weights, are the parameters of the model and $\\mbox{relu}(x)$, which is applied to every element $x$ of its tensor argument (i.e., applied element-wise), is defined by\n",
    "\n",
    "\\begin{align*}\n",
    "\\mbox{relu}(x) & = \\begin{cases}\n",
    "    x, & \\text{if } x \\gt 0\\\\\n",
    "    0              & \\text{otherwise}.\n",
    "\\end{cases}\n",
    "\\end{align*}\n",
    "\n",
    "The parameters with suffix 0 pertain to the input layer, while those with suffix 1 pertain to the so-called __hidden__ layer.\n",
    "Since $\\mathbf{y}$ models class probabilities that sum to unity, it makes sense to map each output of the hidden layer to the unit interval by applying, for example, the softmax function for $K$ output classes, \n",
    "\n",
    "\\begin{align*}\n",
    "(\\mbox{softmax}(x))_k & = \\frac{\\exp(x_{(k)})}{\\sum_{j=0}^{K-1} \\exp(x_{(j)})} ,\n",
    "\\end{align*}\n",
    "\n",
    "where $x_{(k)}$ denotes the $k^\\mbox{th}$ output of the hidden layer. \n",
    "\n",
    "### Loss function\n",
    "Typically, a machine learning model is fitted to the training data by minimizing a suitably defined function, which in the statistics literature is often referred to as the __empirical risk__. (Fitting models to data is called learning by machine learning enthusiasts.) The empirical risk is a Monte Carlo approximation of the __risk functional__, defined by \n",
    "\n",
    "\\begin{align*}\n",
    "    R[f] &= \\int L(t, \\, f(x, \\theta)) \\, \n",
    "    p(t, \\, x) \\, dt \\, dx,\n",
    "\\end{align*}\n",
    "\n",
    "where $L(t, \\, f)$ is called the __loss function__ and measures how much one loses if the output of the parameterized function $f(x, \\theta)$ differs from the __target__ $t$. $\\color{blue}{\\rm Warning}$: In the machine learning world, the empirical risk is typicaly referred to as the loss function, when what is really meant is the average loss function. \n",
    "\n",
    "__Important Note__: In order for the risk functional $R[f]$ to reach its minimum, defined by variations of $f$ that yield the condition $\\delta R = 0$ for all $x$, the function $f$ must be sufficiently flexible. If the latter condition is satisfied, then the mathematical quantity approximated by $f$ depends solely on the form of the loss function $L(t, \\, f)$ and the probability distribution $p(t, \\, x)$ of the training data. In particular, it does not depend on\n",
    "    the details of the functon $f$ apart from its presumed flexibility. Of course, in practice, we do not minimize $R[f]$, but rather the empirical risk, which is an approximation to it. Nevertheless, to the degree that a very large data set approximates an infinite one and to the degree that our minimizer is able to find a good minimum, this note suggests it is as least as important to think about the form of the loss function $L(t, \\, f)$ as it is to think about the form of the model. After all, if we have two models of equal functional flexibility, *a priori*, for the same loss function thet will approximate the same quantity. \n",
    "\n",
    "In order to motivate our choice of loss function, we start with the __Kullback-Leibler__ (KL) divergence\n",
    "\n",
    "\\begin{align*}\n",
    "    D(p || q) & = \\sum_i p_i \\log(p_i / q_i),\n",
    "\\end{align*}\n",
    "\n",
    "which is a *global* measure of the dissimilarity between a probability distribution $p$ and a reference distribution $q$. The KL divergence is a global measure in that it depends on the entire probability distributions $p$ and $q$. In particular, the measure does not supply information about where $p$ and $q$ are well matched and where they are not. \n",
    "\n",
    "The KL divergence is zero if and only if the two distributions are identical. Typically, we have a model for $q$, but $p$ is usually unknown, which makes it difficult to approximate $D(p || q)$. However, the KL divergence can be written as,\n",
    "\n",
    "\\begin{align*}\n",
    "  D(p || q) & = \\sum_i p_i \\log(p_i / q_i),\\\\\n",
    "            & = -\\sum_i p_i \\log q_i - \\left(-\\sum_i p_i \\log p_i\\right),\\\\\n",
    "            & = H(p, q) - H(p).\n",
    "\\end{align*}\n",
    "\n",
    "The quantity $H(p) = -\\sum_i p_i \\log p_i$ is called the __entropy__, while $H(p, q)$ is called the __cross entropy__. Like the KL divergence, the cross entropy is minimized when $q = p$, whereupon it equals the entropy of the probability distribution $p$. The practical advantage of the cross entropy over the KL divergence is that for training data distributed according to $p$, we can use the following Monte Carlo approximation of the cross entropy,\n",
    "\n",
    "\\begin{align*}\n",
    "  H(p, q) & = -\\sum_i p_i \\log q_i,\\\\\n",
    "            & \\approx -\\frac{1}{T}\\sum_{i=0}^{T-1} \\log q_i,\n",
    "\\end{align*}\n",
    "\n",
    "where $T$ is the number of feature vectors, here images, in the training set. In this exercise, we shall use cross entropy as the loss function.\n",
    "The outputs of the model are the conditional class probabilities\n",
    "\n",
    "\\begin{align*}\n",
    "    P(k \\, | \\, \\mathbf{x} ) & = \\frac{P(\\mathbf{x} \\, | \\, k) \\, \\pi(k)}{\\sum_{j=0}^K P(\\mathbf{x} \\, | \\, j) \\, \\pi(j)},\n",
    "\\end{align*}\n",
    "\n",
    "where $\\pi(k)$ is the prior probability of class $k$ and $P(\\mathbf{x} \\, | \\, k)$ is the probability of image $\\mathbf{x}$ *given* that it is of class $k$. ($P(\\mathbf{x} \\, | \\, k)$ is often referred to as the __likelihood__.) To compute the loss function, we set $q_i = P(k_i \\, | \\, \\mathbf{x}_i )$, where $k_i$ is the true class index of image $x_i$. In other words, we take $q_i$ to be the estimated conditional probability that image $x_i$ is of class $k_i$ given that it is known to be of that class.\n",
    "\n",
    "### Exercise\n",
    "  1. Build deep network, using __MLPClassifier__, to classifier handwritten digits from the MNIST database \n",
    "  1. Try one and two hidden layers.\n",
    "  1. Vary the number of nodes/layer"
   ]
  },
  {
   "cell_type": "markdown",
   "metadata": {},
   "source": []
  },
  {
   "cell_type": "code",
   "execution_count": 1,
   "metadata": {},
   "outputs": [
    {
     "name": "stderr",
     "output_type": "stream",
     "text": [
      "/Users/harry/miniconda2/envs/python3/lib/python3.7/site-packages/sklearn/externals/joblib/__init__.py:15: DeprecationWarning: sklearn.externals.joblib is deprecated in 0.21 and will be removed in 0.23. Please import this functionality directly from joblib, which can be installed with: pip install joblib. If this warning is raised when loading pickled models, you may need to re-serialize those models with scikit-learn 0.21+.\n",
      "  warnings.warn(msg, category=DeprecationWarning)\n"
     ]
    }
   ],
   "source": [
    "import os, sys\n",
    "import pandas as pd\n",
    "import numpy as np\n",
    "\n",
    "from sklearn.model_selection import train_test_split\n",
    "from sklearn.preprocessing import StandardScaler\n",
    "from sklearn.neural_network import MLPClassifier\n",
    "try:\n",
    "    from joblib import joblib\n",
    "except:\n",
    "    from sklearn.externals import joblib\n",
    "\n",
    "import matplotlib as mp\n",
    "import matplotlib.pyplot as plt\n",
    "import pylab as pl\n",
    "\n",
    "%matplotlib inline"
   ]
  },
  {
   "cell_type": "code",
   "execution_count": 2,
   "metadata": {},
   "outputs": [],
   "source": [
    "# update fonts\n",
    "FONTSIZE = 16\n",
    "font = {'family' : 'sans-serif',\n",
    "        'weight' : 'normal',\n",
    "        'size'   : FONTSIZE}\n",
    "\n",
    "mp.rc('font', **font)"
   ]
  },
  {
   "cell_type": "markdown",
   "metadata": {
    "collapsed": true
   },
   "source": [
    "### Load MNIST data \n"
   ]
  },
  {
   "cell_type": "code",
   "execution_count": 6,
   "metadata": {},
   "outputs": [],
   "source": [
    "train_x, train_y = joblib.load('../datasets/mnist_train.pkl')\n",
    "test_x,  test_y  = joblib.load('../datasets/mnist_test.pkl')"
   ]
  },
  {
   "cell_type": "markdown",
   "metadata": {},
   "source": [
    "### Plot a selection of images from the training data"
   ]
  },
  {
   "cell_type": "code",
   "execution_count": 7,
   "metadata": {},
   "outputs": [],
   "source": [
    "def plotImages(x, n_rows=2, n_cols=5, f_size=(10, 4)):\n",
    "    f, ax = plt.subplots(nrows=n_rows, \n",
    "                         ncols=n_cols, \n",
    "                         figsize=f_size)\n",
    "    \n",
    "    for image, ax in zip(x, ax.flatten()):\n",
    "        ax.imshow(image.reshape(28, 28), cmap='gray')\n",
    "        ax.axis('off')\n",
    "    plt.show()"
   ]
  },
  {
   "cell_type": "code",
   "execution_count": 8,
   "metadata": {},
   "outputs": [
    {
     "data": {
      "image/png": "[encoded data removed]",
      "text/plain": [
       "<Figure size 720x288 with 10 Axes>"
      ]
     },
     "metadata": {
      "needs_background": "light"
     },
     "output_type": "display_data"
    }
   ],
   "source": [
    "plotImages(train_x)"
   ]
  },
  {
   "cell_type": "markdown",
   "metadata": {},
   "source": [
    "### Train classifier"
   ]
  },
  {
   "cell_type": "code",
   "execution_count": 9,
   "metadata": {},
   "outputs": [
    {
     "name": "stdout",
     "output_type": "stream",
     "text": [
      "*** TRAINING ***\n",
      "Iteration 1, loss = 0.40732814\n",
      "Iteration 2, loss = 0.16113032\n",
      "Iteration 3, loss = 0.11865388\n",
      "Iteration 4, loss = 0.09465947\n",
      "Iteration 5, loss = 0.08134931\n",
      "Iteration 6, loss = 0.06974821\n",
      "Iteration 7, loss = 0.06211915\n",
      "Iteration 8, loss = 0.05386695\n",
      "Iteration 9, loss = 0.04940621\n",
      "Iteration 10, loss = 0.04579688\n",
      "Iteration 11, loss = 0.04139810\n",
      "Iteration 12, loss = 0.03826757\n",
      "Iteration 13, loss = 0.03579057\n",
      "Iteration 14, loss = 0.03323018\n",
      "Iteration 15, loss = 0.03221626\n",
      "Iteration 16, loss = 0.03069390\n",
      "Iteration 17, loss = 0.02997901\n",
      "Iteration 18, loss = 0.02891849\n",
      "Iteration 19, loss = 0.02865835\n",
      "Iteration 20, loss = 0.02657874\n",
      "Iteration 21, loss = 0.02576001\n",
      "Iteration 22, loss = 0.02510506\n",
      "Iteration 23, loss = 0.02919860\n",
      "Iteration 24, loss = 0.02726567\n",
      "Iteration 25, loss = 0.02483873\n",
      "Iteration 26, loss = 0.02214253\n",
      "Iteration 27, loss = 0.02429505\n",
      "Iteration 28, loss = 0.02801485\n",
      "Iteration 29, loss = 0.02931947\n",
      "Iteration 30, loss = 0.02459416\n",
      "Iteration 31, loss = 0.02022567\n",
      "Iteration 32, loss = 0.01983291\n",
      "Iteration 33, loss = 0.01824823\n",
      "Iteration 34, loss = 0.01965700\n",
      "Iteration 35, loss = 0.03620236\n",
      "Iteration 36, loss = 0.02939857\n",
      "Iteration 37, loss = 0.02277252\n",
      "Iteration 38, loss = 0.01975091\n",
      "Iteration 39, loss = 0.01779865\n",
      "Iteration 40, loss = 0.01750619\n",
      "Iteration 41, loss = 0.03261471\n",
      "Iteration 42, loss = 0.02672472\n",
      "Iteration 43, loss = 0.02510558\n",
      "Iteration 44, loss = 0.02058444\n",
      "Iteration 45, loss = 0.01825692\n",
      "Iteration 46, loss = 0.01767634\n",
      "Iteration 47, loss = 0.02660037\n",
      "Iteration 48, loss = 0.03024324\n",
      "Iteration 49, loss = 0.02386810\n",
      "Iteration 50, loss = 0.01922325\n",
      "Iteration 51, loss = 0.01733406\n",
      "Iteration 52, loss = 0.01656595\n",
      "Iteration 53, loss = 0.01600270\n",
      "Iteration 54, loss = 0.01569801\n",
      "Iteration 55, loss = 0.03318484\n",
      "Iteration 56, loss = 0.02908163\n",
      "Iteration 57, loss = 0.02092153\n",
      "Iteration 58, loss = 0.01785744\n",
      "Iteration 59, loss = 0.01663285\n",
      "Iteration 60, loss = 0.01597876\n",
      "Iteration 61, loss = 0.01541333\n",
      "Iteration 62, loss = 0.02154398\n",
      "Iteration 63, loss = 0.03782604\n",
      "Iteration 64, loss = 0.02324017\n",
      "Iteration 65, loss = 0.01814573\n",
      "Iteration 66, loss = 0.01666874\n",
      "Iteration 67, loss = 0.01624085\n",
      "Iteration 68, loss = 0.01572053\n",
      "Iteration 69, loss = 0.01589690\n",
      "Iteration 70, loss = 0.03363957\n",
      "Iteration 71, loss = 0.02465224\n",
      "Iteration 72, loss = 0.01826202\n",
      "Training loss did not improve more than tol=0.000001 for 10 consecutive epochs. Stopping.\n",
      "Training set score: 0.999883\n",
      "Test set score:     0.981200\n",
      "save to mnist_scikit_snn.pkl\n"
     ]
    },
    {
     "data": {
      "text/plain": [
       "['mnist_scikit_snn.pkl']"
      ]
     },
     "execution_count": 9,
     "metadata": {},
     "output_type": "execute_result"
    }
   ],
   "source": [
    "mlp = MLPClassifier(hidden_layer_sizes=(100,100), \n",
    "                    max_iter=1000, \n",
    "                    alpha=1e-2,\n",
    "                    solver='adam', \n",
    "                    verbose=1, \n",
    "                    tol=1e-6, \n",
    "                    warm_start=False,\n",
    "                    random_state=1)\n",
    "\n",
    "print(\"*** TRAINING ***\")\n",
    "mlp.fit(train_x, train_y)\n",
    "\n",
    "print(\"Training set score: %f\" % mlp.score(train_x, train_y))      \n",
    "print(\"Test set score:     %f\" % mlp.score(test_x,  test_y))\n",
    "\n",
    "filename = 'mnist_scikit_snn.pkl'\n",
    "print(\"save to %s\" % filename)\n",
    "joblib.dump(mlp, filename)"
   ]
  },
  {
   "cell_type": "markdown",
   "metadata": {},
   "source": [
    "### Plot loss curve vs. epochs"
   ]
  },
  {
   "cell_type": "code",
   "execution_count": 10,
   "metadata": {},
   "outputs": [],
   "source": [
    "def plotLoss(mlp, ftsize=FONTSIZE):\n",
    "    y    = mlp.loss_curve_\n",
    "    x    = np.array(range(len(y)))+1\n",
    "\n",
    "    ymin = 0.8*min(y)\n",
    "    ymax = 1.2*max(y)\n",
    "    epoch= range(len(y))\n",
    "    xmin = 0\n",
    "    xmax = len(x)\n",
    "    \n",
    "    # set size of figure\n",
    "    plt.figure(figsize=(8,4));\n",
    "\n",
    "    # get axis info\n",
    "    axes = plt.gca()\n",
    "    # set axes' limits\n",
    "    axes.set_xlim(xmin, xmax)\n",
    "    axes.set_ylim(ymin, ymax)\n",
    "    \n",
    "    # annotate axes\n",
    "    plt.xlabel('iteration', fontsize=ftsize)\n",
    "    plt.ylabel('loss',  fontsize=ftsize)\n",
    "    \n",
    "    # choose color of points\n",
    "    plt.plot(x, y, 'b-')\n",
    "    plt.savefig('mnist_scikit_loss.png')\n",
    "    plt.show()"
   ]
  },
  {
   "cell_type": "code",
   "execution_count": 12,
   "metadata": {},
   "outputs": [
    {
     "data": {
      "image/png": "[encoded data removed]",
      "text/plain": [
       "<Figure size 576x288 with 1 Axes>"
      ]
     },
     "metadata": {
      "needs_background": "light"
     },
     "output_type": "display_data"
    }
   ],
   "source": [
    "plotLoss(mlp)"
   ]
  },
  {
   "cell_type": "code",
   "execution_count": null,
   "metadata": {
    "collapsed": true
   },
   "outputs": [],
   "source": []
  },
  {
   "cell_type": "code",
   "execution_count": null,
   "metadata": {
    "collapsed": true
   },
   "outputs": [],
   "source": []
  }
 ],
 "metadata": {
  "kernelspec": {
   "display_name": "Python 3",
   "language": "python",
   "name": "python3"
  },
  "language_info": {
   "codemirror_mode": {
    "name": "ipython",
    "version": 3
   },
   "file_extension": ".py",
   "mimetype": "text/x-python",
   "name": "python",
   "nbconvert_exporter": "python",
   "pygments_lexer": "ipython3",
   "version": "3.7.4"
  }
 },
 "nbformat": 4,
 "nbformat_minor": 1
}
