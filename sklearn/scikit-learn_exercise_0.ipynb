{
 "cells": [
  {
   "cell_type": "markdown",
   "metadata": {},
   "source": [
    "# scikit-learn - Regression - 0\n",
    " >__Created__:  17 October 2019, Bari, Italy     Harrison B. Prosper\n",
    "  \n",
    "\n",
    "### Introduction to Neural Networks\n",
    "A neural network (NN) is a highly non-linear function. The functional form of a single layer fully-connected NN with $I$ inputs and $J$ outputs is\n",
    "\n",
    "$$y_{j}(x) = f\\left(b_{j} + \\sum_{i=1}^I w_{ji} \\, x_i\\right),\\quad j = 1,\\cdots,J,$$\n",
    "which in matrix notation is\n",
    "$$\\mathbf{y} = f\\left(\\mathbf{b} + \\mathbf{w} \\, \\mathbf{x}\\right),$$\n",
    "where $f(*)$ is a function applied *element-wise* to its matrix argument, that is, applied to every element of the matrix. The function $f(*)$ is called an __activation__ function. Popular examples of the $f(*)$ are\n",
    "\n",
    "\\begin{align*}\n",
    "    f(z) & = \\tanh{z},\\\\\n",
    "    f(z) & = \\max(0, z) \\quad\\textrm{relu function}.\n",
    "\\end{align*}\n",
    "\n",
    "Consider a neural network with $I$ inputs, $x_{i}, i = 1, \\cdots, I$, a single hidden layer with $H$ nodes, and $K$ outputs $y_{k}(x), k = 1, \\cdots, K$. Such a network is said to be *shallow* with structure $(I, H, K)$. The functional form is\n",
    "\n",
    "$$y = g(\\mathbf{b}_1 + \\mathbf{w}_1 \\, f(\\mathbf{b}_0 + \\mathbf{w}_0 \\, \\mathbf{x})),$$\n",
    "\n",
    "where the subscripts label the layers, and, usually, the output function $g$ differs from $f$. For regression,  $g$ is\n",
    "the $identity$ function. For 2-class (i.e., binary) classification it is usually the $logistic$ function \n",
    "\n",
    "$$g(z) = \\frac{1}{1 + \\exp(-z)},$$ \n",
    "\n",
    "while for multi-class classification one typically uses the $softwmax$ function\n",
    "\n",
    "$$y_k = g(z_k) = \\frac{\\exp(z_k)}{\\sum_{j=1}^K \\exp(z_j)}.$$ \n",
    "\n",
    "For the special case of a single output network, $\\mathbf{b}_1$ becomes a scalar $b$ and $\\mathbf{w}_1$ \n",
    "is a column matrix.\n",
    "\n",
    "### Deep Neural Networks\n",
    "A deep neural network (DNN) model, of which many have been invented, is a recursively constructed function with two or more layers.  Indeed, it seems that there are as  many DNN models as there are machine learning researchers! This makes it difficult to give a single high-level view of all of the models. However, many feed-forward models (those in which information flows from the input to the output only) do have the same general structure. \n",
    "For example, a DNN with two hidden layers has the functional form\n",
    "\n",
    "$$y = g(\\mathbf{b}_2 + h_2(\\mathbf{w}_2, \\, f_2(\\mathbf{b}_1 + h_1(\\mathbf{w}_1, \\, f_1(\\mathbf{b}_0 + h_0(\\mathbf{w}_0, \\, \\mathbf{x})))))),$$\n",
    "\n",
    "where $g$, $h$ and $f$ are functions that implement a variety of mathematical operations, including matrix multiplication, non-linear transformations, max-pooling and cross-correlation, depending on the model. Some of these operations will be described in the pytorch tutorials.\n",
    "\n",
    "### Exercise\n",
    "  Build a network, using __MLPRegression__, to model supernova data from http://supernova.lbl.gov/Union/."
   ]
  },
  {
   "cell_type": "markdown",
   "metadata": {},
   "source": []
  },
  {
   "cell_type": "code",
   "execution_count": 1,
   "metadata": {},
   "outputs": [],
   "source": [
    "# system modules\n",
    "import os, sys\n",
    "\n",
    "# table manipulations\n",
    "import pandas as pd\n",
    "\n",
    "# array manipulations\n",
    "import numpy as np\n",
    "\n",
    "# scikit-learn modules\n",
    "#  split data into a training set and a test set\n",
    "from sklearn.model_selection import train_test_split\n",
    "\n",
    "#  a NN model whose output is the identity and \n",
    "#  which is therefore suitable for regression\n",
    "from sklearn.neural_network import MLPRegressor\n",
    "\n",
    "#  a function to save results\n",
    "from sklearn.externals import joblib\n",
    "\n",
    "# plotting\n",
    "import matplotlib as mp\n",
    "import matplotlib.pyplot as plt\n",
    "import pylab as pl\n",
    "\n",
    "# display all plots inline (that is, just below the code that makes them)\n",
    "%matplotlib inline"
   ]
  },
  {
   "cell_type": "code",
   "execution_count": 2,
   "metadata": {},
   "outputs": [],
   "source": [
    "# setup desired fonts\n",
    "FONTSIZE = 18\n",
    "font = {'family' : 'sans-serif',\n",
    "        'weight' : 'normal',\n",
    "        'size'   : FONTSIZE}\n",
    "mp.rc('font', **font)"
   ]
  },
  {
   "cell_type": "markdown",
   "metadata": {
    "collapsed": true
   },
   "source": [
    "### Load data into memory"
   ]
  },
  {
   "cell_type": "code",
   "execution_count": 4,
   "metadata": {},
   "outputs": [],
   "source": [
    "# ---------------------------------------------------------\n",
    "# read Type Ia data\n",
    "# format: name, z, y, dy\n",
    "# name:     name of supernova\n",
    "# z         measured redshift of supernova\n",
    "# y +/- dy: measured distance modulus\n",
    "# ---------------------------------------------------------\n",
    "def readData(filename):\n",
    "    import os\n",
    "    from array import array\n",
    "    from string import split, atof\n",
    "    if not os.path.exists(filename):\n",
    "        sys.exit(\"** can't open file %s\" % filename)\n",
    "        \n",
    "    # skip first 5 lines and convert 2nd through 4th\n",
    "    # columns to floats\n",
    "    data = map(lambda x: map(atof, x[1:-1]),\n",
    "                   map(split,\n",
    "                           open(filename).readlines()[5:]))\n",
    "    \n",
    "    z  = []\n",
    "    y  = []\n",
    "    dy = []\n",
    "    ndata = len(data)\n",
    "    for ii, d in enumerate(data):\n",
    "        z.append(d[0])\n",
    "        y.append(d[1])\n",
    "        dy.append(d[2])\n",
    "        \n",
    "    # compute weight 1/standard-dev**2 using\n",
    "    # numpy. the key thing about numpy is that there is an\n",
    "    # implied loop in numpy expression that is executed \n",
    "    # much, much, faster than a Python loop.\n",
    "    dy = np.array(dy)\n",
    "    # the following expressions are applied to every element\n",
    "    # of the numpy list\n",
    "    w  = 1.0/dy**2\n",
    "    w  = w / sum(w)\n",
    "    \n",
    "    # create a pandas table (a DataFrame)\n",
    "    df = pd.DataFrame({'z': z, \n",
    "                       'y': y, \n",
    "                       'dy': dy, \n",
    "                       'weight': w})\n",
    "    return df"
   ]
  },
  {
   "cell_type": "code",
   "execution_count": 5,
   "metadata": {},
   "outputs": [
    {
     "name": "stdout",
     "output_type": "stream",
     "text": [
      "580\n"
     ]
    }
   ],
   "source": [
    "dfe = readData('../datasets/SCPUnion2.1_mu_vs_z.txt')\n",
    "print(len(dfe))"
   ]
  },
  {
   "cell_type": "markdown",
   "metadata": {},
   "source": [
    "### Plot Type1a Supernova Data"
   ]
  },
  {
   "cell_type": "code",
   "execution_count": null,
   "metadata": {},
   "outputs": [],
   "source": []
  },
  {
   "cell_type": "code",
   "execution_count": 7,
   "metadata": {},
   "outputs": [],
   "source": [
    "def plotData(df, filename, dnn=None, fgsize=(12, 5)):\n",
    "    z = df['z']   # redshifts\n",
    "    y = df['y']   # distance moduli\n",
    "    dy= df['dy']  # distance moduli uncertainties\n",
    "    \n",
    "    # set up figure size, etc.\n",
    "    plt.figure(figsize=fgsize)\n",
    "    \n",
    "    # plot points with error bars\n",
    "    plt.errorbar(z, y, yerr=dy, fmt='o')\n",
    "    \n",
    "    # range of redshifts\n",
    "    xmin =  0.0\n",
    "    xmax =  1.60\n",
    "    \n",
    "    # range of distance moduli\n",
    "    ymin = 32.0\n",
    "    ymax = 48.00\n",
    "    \n",
    "    if dnn:\n",
    "        # a neural network has been given so do following\n",
    "        \n",
    "        # create a uniformly space array of redshifts.\n",
    "        # apparently, we need to reshape the array as shown.\n",
    "        # note: the -1 means the length of the first dimension \n",
    "        # of the array is unspecified.\n",
    "        x = np.arange(xmin, xmax, 0.02).reshape(-1, 1)\n",
    "        \n",
    "        # given redshifts x, predict distance moduli f. again\n",
    "        # there is an implied loop over the elements of x\n",
    "        f = SCALE * dnn.predict(x)\n",
    "        \n",
    "        # plot curve f vs. x\n",
    "        plt.plot(x, f, lw=3, color='red')\n",
    "        \n",
    "        # compute chi-squared\n",
    "        f = SCALE * dnn.predict(z.values.reshape(-1, 1))\n",
    "        chisq = np.sum(((f -  y) / dy)**2)\n",
    "        \n",
    "        print('chisq / : %5.2f\\tnumber of points: %5d' % (chisq, len(y)))\n",
    "        \n",
    "    # complete plot decoration\n",
    "    plt.xlim([xmin+0.01, xmax])\n",
    "    plt.ylim([ymin+0.01, ymax])\n",
    "    plt.xlabel('redshift ($z$)')\n",
    "    plt.ylabel('distance modulus ($y$)')\n",
    "    plt.grid(True, which=\"both\", linestyle='-')\n",
    "    plt.savefig(filename)\n",
    "    plt.show()\n",
    "    return"
   ]
  },
  {
   "cell_type": "code",
   "execution_count": 8,
   "metadata": {
    "scrolled": true
   },
   "outputs": [
    {
     "data": {
      "image/png": "[encoded data removed]",
      "text/plain": [
       "<matplotlib.figure.Figure at 0x1107db3d0>"
      ]
     },
     "metadata": {},
     "output_type": "display_data"
    }
   ],
   "source": [
    "plotData(dfe, \"scitkit-learn_exercise0_data.png\")"
   ]
  },
  {
   "cell_type": "markdown",
   "metadata": {},
   "source": [
    "### Train, validation, and test sets\n",
    "There is some confusion in terminology regarding validation and test samples (or sets). We shall adhere to the defintions given here https://machinelearningmastery.com/difference-test-validation-datasets/):\n",
    "   \n",
    "  * __Training Dataset__: The sample of data used to fit the model.\n",
    "  * __Validation Dataset__: The sample of data used to provide an unbiased evaluation of a model fit on the training dataset while tuning model hyperparameters. The evaluation becomes more biased as skill on the validation dataset is incorporated into the model configuration.\n",
    "  * __Test Dataset__: The sample of data used to provide an unbiased evaluation of a final model fit on the training dataset.\n",
    "\n",
    "The validation set will be some small fraction of the training set and will be used to decide when to stop the training."
   ]
  },
  {
   "cell_type": "code",
   "execution_count": 9,
   "metadata": {},
   "outputs": [
    {
     "name": "stdout",
     "output_type": "stream",
     "text": [
      "(464, 4)\n",
      "train set size:       464\n",
      "test set size:        116\n"
     ]
    },
    {
     "data": {
      "text/html": [
       "<div>\n",
       "<table border=\"1\" class=\"dataframe\">\n",
       "  <thead>\n",
       "    <tr style=\"text-align: right;\">\n",
       "      <th></th>\n",
       "      <th>dy</th>\n",
       "      <th>weight</th>\n",
       "      <th>y</th>\n",
       "      <th>z</th>\n",
       "    </tr>\n",
       "  </thead>\n",
       "  <tbody>\n",
       "    <tr>\n",
       "      <th>108</th>\n",
       "      <td>0.169492</td>\n",
       "      <td>0.001791</td>\n",
       "      <td>36.094167</td>\n",
       "      <td>0.032700</td>\n",
       "    </tr>\n",
       "    <tr>\n",
       "      <th>33</th>\n",
       "      <td>0.209465</td>\n",
       "      <td>0.001173</td>\n",
       "      <td>34.226337</td>\n",
       "      <td>0.016730</td>\n",
       "    </tr>\n",
       "    <tr>\n",
       "      <th>560</th>\n",
       "      <td>0.954717</td>\n",
       "      <td>0.000056</td>\n",
       "      <td>44.273620</td>\n",
       "      <td>0.953000</td>\n",
       "    </tr>\n",
       "    <tr>\n",
       "      <th>429</th>\n",
       "      <td>0.215165</td>\n",
       "      <td>0.001111</td>\n",
       "      <td>43.714060</td>\n",
       "      <td>0.800000</td>\n",
       "    </tr>\n",
       "    <tr>\n",
       "      <th>474</th>\n",
       "      <td>0.306522</td>\n",
       "      <td>0.000548</td>\n",
       "      <td>42.871950</td>\n",
       "      <td>0.561000</td>\n",
       "    </tr>\n",
       "    <tr>\n",
       "      <th>94</th>\n",
       "      <td>0.191413</td>\n",
       "      <td>0.001404</td>\n",
       "      <td>34.617280</td>\n",
       "      <td>0.020500</td>\n",
       "    </tr>\n",
       "    <tr>\n",
       "      <th>45</th>\n",
       "      <td>0.309890</td>\n",
       "      <td>0.000536</td>\n",
       "      <td>34.378772</td>\n",
       "      <td>0.016991</td>\n",
       "    </tr>\n",
       "    <tr>\n",
       "      <th>346</th>\n",
       "      <td>0.705981</td>\n",
       "      <td>0.000103</td>\n",
       "      <td>43.307106</td>\n",
       "      <td>0.936000</td>\n",
       "    </tr>\n",
       "    <tr>\n",
       "      <th>576</th>\n",
       "      <td>0.187509</td>\n",
       "      <td>0.001463</td>\n",
       "      <td>44.971358</td>\n",
       "      <td>1.315000</td>\n",
       "    </tr>\n",
       "    <tr>\n",
       "      <th>448</th>\n",
       "      <td>0.278817</td>\n",
       "      <td>0.000662</td>\n",
       "      <td>44.231304</td>\n",
       "      <td>0.870000</td>\n",
       "    </tr>\n",
       "  </tbody>\n",
       "</table>\n",
       "</div>"
      ],
      "text/plain": [
       "           dy    weight          y         z\n",
       "108  0.169492  0.001791  36.094167  0.032700\n",
       "33   0.209465  0.001173  34.226337  0.016730\n",
       "560  0.954717  0.000056  44.273620  0.953000\n",
       "429  0.215165  0.001111  43.714060  0.800000\n",
       "474  0.306522  0.000548  42.871950  0.561000\n",
       "94   0.191413  0.001404  34.617280  0.020500\n",
       "45   0.309890  0.000536  34.378772  0.016991\n",
       "346  0.705981  0.000103  43.307106  0.936000\n",
       "576  0.187509  0.001463  44.971358  1.315000\n",
       "448  0.278817  0.000662  44.231304  0.870000"
      ]
     },
     "execution_count": 9,
     "metadata": {},
     "output_type": "execute_result"
    }
   ],
   "source": [
    "test_fraction  = 0.20\n",
    "train_data0, test_data = train_test_split(dfe, test_size=test_fraction)\n",
    "print(train_data0.shape)\n",
    "print('train set size:      %4d' % train_data0.shape[0])\n",
    "print('test set size:       %4d' % test_data.shape[0])\n",
    "train_data0[:10]"
   ]
  },
  {
   "cell_type": "markdown",
   "metadata": {},
   "source": [
    "### Balance training sample\n",
    "The data for each supernova $i$ comes with a weight given $w_i = 1/\\sigma_i^2/\\sum_j 1/\\sigma_j^2$, where $\\sigma_i$ is the uncertainty in the measured distance modulus $y_i$. Since it appears that weights cannot be used with every model in scikit-learn, it is a bit ironic that we shall have to *unweight* the training data into to take account of the weights. Unweighting means creating a new sample so that an item with weight $w_i$ appears in the sample with a relative frequency proportional to $w_i$. For example, an item that has a weight 30% larger than another should appear 30% more often in the unweighted sample than the other item.\n",
    "\n",
    "We'll do the unweighting using the binary bootstrap algorithm described below. One disadvantage of this method is that supernova entries will be repeated. Therefore, there will be some overlap between the training and validation data. The latter is used during the training in order to decide when the training should stop. However, the test data are not used during training.\n",
    "\n",
    "#### Unweighting algorithm\n",
    "In order to unweight data, we need to pick an item $i$, here the data associated with a supernova, with probability $p_i = w_i / w_s$, where $w_s = \\sum_i w_i$ is the sum of the weights. The problem is analogous to throwing darts at a thin rectangular dart board marked with lines perpendicular to its length. The markings segment the board such that the distance between marks represents the weights. The length of the dart board, therefore, represents the sum of the weights $w_s$. Suppose that the darts are thrown at the board in such a way that they land on it in a uniform, but random, distribution. The number of darts in a given segment will be proportional to the length of the segment. Every time a dart is thrown, we record the segment number in which it lands and build a sample of segment numbers. The segment numbers can then be used to create the unweighted sample. Here is the algorithm, step by step.  \n",
    "   1. Compute sum of weights $w_s = \\sum_i w_i$.\n",
    "   1. Generate a random number $u$ from a uniform distribution over the range $0 \\mbox{ to } w_s$. (This determines where the dart lands.)\n",
    "   1. Use a binary search to locate the segment in which $u$ lies.\n",
    "   1. Repeat 2 and 3 as often as needed.\n",
    "   \n",
    "The reason this is called a bootstrap method is because it follows the bootstrap idea: approximate random sampling from a population (that is, an infinite sample) by sampling from a finite, but, one hopes, representative sample.  The key is to *sample with replacement*, that is, one takes an item at random from the (ideally, very large) sample, records the item's relevant characteristics, and place the item back in the sample so that the approximated population remains unchanged."
   ]
  },
  {
   "cell_type": "code",
   "execution_count": 10,
   "metadata": {},
   "outputs": [],
   "source": [
    "def bootstrap_unweight(df, factor=1.0, weightname='weight'):\n",
    "    from math import sqrt\n",
    "    from random import uniform\n",
    "    \n",
    "    # implement a binary search\n",
    "    def binsearch(L, item):\n",
    "        first = 0\n",
    "        last  = len(L) - 1   \n",
    "        found = False\n",
    "        while (first <= last) and not found:\n",
    "            mid = (first + last) / 2\n",
    "            if item <= L[mid]:\n",
    "                last = mid;       \n",
    "            elif item > L[mid]:\n",
    "                first = mid + 1\n",
    "            if first >= last:\n",
    "                mid = first\n",
    "                found = True\n",
    "        if found: return mid\n",
    "        return -1\n",
    "\n",
    "    w1 = df[weightname]\n",
    "    w2 = w1*w1\n",
    "    w1sum = sum(w1)\n",
    "    w2sum = sum(w2)\n",
    "    count = int(factor * w1sum*w1sum / w2sum)\n",
    "    wcdf  = np.cumsum(w1)\n",
    "    print \"summed weight sum: %10.4f\" % w1sum\n",
    "        \n",
    "    wlist = wcdf.tolist()\n",
    "    index = []\n",
    "    for i in xrange(count):\n",
    "        w = uniform(0, w1sum)\n",
    "        k = binsearch(wlist, w)\n",
    "        if k < 0 or k > len(wlist)-1:\n",
    "            print \"**error** location of weight %f not found\" % w\n",
    "            return None\n",
    "        index.append(k)\n",
    "    return df.iloc[index]"
   ]
  },
  {
   "cell_type": "code",
   "execution_count": 83,
   "metadata": {},
   "outputs": [
    {
     "name": "stdout",
     "output_type": "stream",
     "text": [
      "summed weight sum:     0.7964\n",
      "4000\n"
     ]
    },
    {
     "data": {
      "text/html": [
       "<div>\n",
       "<table border=\"1\" class=\"dataframe\">\n",
       "  <thead>\n",
       "    <tr style=\"text-align: right;\">\n",
       "      <th></th>\n",
       "      <th>dy</th>\n",
       "      <th>weight</th>\n",
       "      <th>y</th>\n",
       "      <th>z</th>\n",
       "    </tr>\n",
       "  </thead>\n",
       "  <tbody>\n",
       "    <tr>\n",
       "      <th>406</th>\n",
       "      <td>0.174224</td>\n",
       "      <td>0.001695</td>\n",
       "      <td>42.399162</td>\n",
       "      <td>0.571000</td>\n",
       "    </tr>\n",
       "    <tr>\n",
       "      <th>56</th>\n",
       "      <td>0.129445</td>\n",
       "      <td>0.003071</td>\n",
       "      <td>38.979185</td>\n",
       "      <td>0.129900</td>\n",
       "    </tr>\n",
       "    <tr>\n",
       "      <th>129</th>\n",
       "      <td>0.172493</td>\n",
       "      <td>0.001729</td>\n",
       "      <td>35.593504</td>\n",
       "      <td>0.030800</td>\n",
       "    </tr>\n",
       "    <tr>\n",
       "      <th>19</th>\n",
       "      <td>0.148694</td>\n",
       "      <td>0.002327</td>\n",
       "      <td>33.940948</td>\n",
       "      <td>0.015436</td>\n",
       "    </tr>\n",
       "    <tr>\n",
       "      <th>443</th>\n",
       "      <td>0.157228</td>\n",
       "      <td>0.002082</td>\n",
       "      <td>42.758613</td>\n",
       "      <td>0.626800</td>\n",
       "    </tr>\n",
       "  </tbody>\n",
       "</table>\n",
       "</div>"
      ],
      "text/plain": [
       "           dy    weight          y         z\n",
       "406  0.174224  0.001695  42.399162  0.571000\n",
       "56   0.129445  0.003071  38.979185  0.129900\n",
       "129  0.172493  0.001729  35.593504  0.030800\n",
       "19   0.148694  0.002327  33.940948  0.015436\n",
       "443  0.157228  0.002082  42.758613  0.626800"
      ]
     },
     "execution_count": 83,
     "metadata": {},
     "output_type": "execute_result"
    }
   ],
   "source": [
    "# Artificially increase the number of points\n",
    "train_data = bootstrap_unweight(train_data0, 13.182)\n",
    "print(len(train_data))\n",
    "train_data[0:5]"
   ]
  },
  {
   "cell_type": "markdown",
   "metadata": {},
   "source": [
    "### Prepare data\n",
    "Make sure data are of order unity in magnitude. Apparently, it is necessary to reshape the data into 2-d arrays of shape (-1, 1)."
   ]
  },
  {
   "cell_type": "code",
   "execution_count": 84,
   "metadata": {},
   "outputs": [],
   "source": [
    "SCALE = 50\n",
    "train_x = train_data.z.values.reshape(-1, 1)\n",
    "train_y = train_data.y.values.reshape(-1, 1) / SCALE\n",
    "\n",
    "test_x  = test_data.z.values.reshape(-1, 1)\n",
    "test_y  = test_data.y.values.reshape(-1, 1) / SCALE"
   ]
  },
  {
   "cell_type": "markdown",
   "metadata": {},
   "source": [
    "### Define function space \n",
    "A particular choice of neural network architecture, shallow, deep, convolutional, recurrent, etc., defines the space of possible functions that can be accessed via training. If you get poor results, it could be because you have insufficient training data, or perhaps your function space does not contain a function that is a good approximation to the desired one, or it could be that your training algorithm is unable to locate the desired function within your function space, or any combination of these problems.\n",
    "\n",
    "Here we use a $(1, 5, 3, 4, 1)$ network, that is, a network with one input, followed by three layers with 5, 3, and 4, nodes, respectively, and ending with a single output."
   ]
  },
  {
   "cell_type": "code",
   "execution_count": 85,
   "metadata": {},
   "outputs": [],
   "source": [
    "# Stop training when validation score is not improving. \n",
    "dnn = MLPRegressor(hidden_layer_sizes=(5,3,4), \n",
    "                    max_iter=10000, \n",
    "                    alpha=1e-5,\n",
    "                    solver='adam',\n",
    "                    activation='tanh',\n",
    "                    verbose=0, \n",
    "                    tol=1e-12, \n",
    "                    warm_start=False,\n",
    "                    random_state=1)"
   ]
  },
  {
   "cell_type": "markdown",
   "metadata": {},
   "source": [
    "### Choose a function, aka train a regressor!"
   ]
  },
  {
   "cell_type": "code",
   "execution_count": 86,
   "metadata": {},
   "outputs": [
    {
     "name": "stdout",
     "output_type": "stream",
     "text": [
      "*** TRAINING ***\n",
      "\n",
      "Training set score:     0.9942\n",
      "Test set score:         0.9906\n",
      "save to scikit-learn_exercise0_dnn.pkl\n"
     ]
    },
    {
     "data": {
      "text/plain": [
       "['scikit-learn_exercise0_dnn.pkl']"
      ]
     },
     "execution_count": 86,
     "metadata": {},
     "output_type": "execute_result"
    }
   ],
   "source": [
    "print \"*** TRAINING ***\"\n",
    "dnn.fit(train_x, train_y)\n",
    "       \n",
    "print\n",
    "print(\"Training set score: %10.4f\" % dnn.score(train_x, train_y))      \n",
    "print(\"Test set score:     %10.4f\" % dnn.score(test_x,  test_y))\n",
    "\n",
    "filename = 'scikit-learn_exercise0_dnn.pkl'\n",
    "print \"save to %s\" % filename\n",
    "joblib.dump(dnn, filename)"
   ]
  },
  {
   "cell_type": "markdown",
   "metadata": {},
   "source": [
    "### Plot loss curve vs. iterations\n",
    "The loss function measures how *badly* the model fits the data; therefore, the smaller the loss function the better the fit. We use the default loss function, which for regression is\n",
    "\n",
    "$$R(\\mathbf{w}) = \\frac{1}{N} \\sum_{n=1}^N \\left(y_n - f(x_n, \\mathbf{w})\\right)^2 .$$\n"
   ]
  },
  {
   "cell_type": "code",
   "execution_count": 87,
   "metadata": {},
   "outputs": [],
   "source": [
    "def plotLoss(dnn, ftsize=FONTSIZE):\n",
    "    y    = dnn.loss_curve_\n",
    "    x    = np.array(range(len(y)))\n",
    "\n",
    "    ymin = 1.e-5\n",
    "    ymax = 1.0\n",
    "\n",
    "    xmin = 0\n",
    "    xmax = len(x)\n",
    "    \n",
    "    # set size of figure\n",
    "    plt.figure(figsize=(8,4));\n",
    "\n",
    "    # get axis info\n",
    "    axes = plt.gca()\n",
    "    # set axes' limits\n",
    "    axes.set_xlim(xmin, xmax)\n",
    "    axes.set_ylim(ymin, ymax)\n",
    "    \n",
    "    # annotate axes\n",
    "    plt.xlabel(r'iteration', fontsize=ftsize)\n",
    "    plt.ylabel(r'loss',  fontsize=ftsize)\n",
    "    plt.yscale('log')\n",
    "    plt.grid(True, which=\"both\", linestyle='-')\n",
    "\n",
    "    plt.plot(x, y)\n",
    "    plt.savefig('scikit-learn_exercise0_dnn_loss.png')\n",
    "    plt.show()"
   ]
  },
  {
   "cell_type": "code",
   "execution_count": 88,
   "metadata": {},
   "outputs": [
    {
     "data": {
      "image/png": "[encoded data removed]",
      "text/plain": [
       "<matplotlib.figure.Figure at 0x110be2690>"
      ]
     },
     "metadata": {},
     "output_type": "display_data"
    }
   ],
   "source": [
    "plotLoss(dnn)"
   ]
  },
  {
   "cell_type": "markdown",
   "metadata": {},
   "source": [
    "### Plot results of fit"
   ]
  },
  {
   "cell_type": "code",
   "execution_count": 89,
   "metadata": {},
   "outputs": [
    {
     "name": "stdout",
     "output_type": "stream",
     "text": [
      "chisq / : 217.27\tnumber of points:   116\n"
     ]
    },
    {
     "data": {
      "image/png": "[encoded data removed]",
      "text/plain": [
       "<matplotlib.figure.Figure at 0x110838810>"
      ]
     },
     "metadata": {},
     "output_type": "display_data"
    }
   ],
   "source": [
    "plotData(test_data, \"scitkit-learn_exercise0_result.png\", dnn)"
   ]
  },
  {
   "cell_type": "code",
   "execution_count": null,
   "metadata": {},
   "outputs": [],
   "source": []
  },
  {
   "cell_type": "code",
   "execution_count": null,
   "metadata": {},
   "outputs": [],
   "source": []
  }
 ],
 "metadata": {
  "kernelspec": {
   "display_name": "Python 2",
   "language": "python",
   "name": "python2"
  },
  "language_info": {
   "codemirror_mode": {
    "name": "ipython",
    "version": 2
   },
   "file_extension": ".py",
   "mimetype": "text/x-python",
   "name": "python",
   "nbconvert_exporter": "python",
   "pygments_lexer": "ipython2",
   "version": "2.7.14"
  }
 },
 "nbformat": 4,
 "nbformat_minor": 1
}
