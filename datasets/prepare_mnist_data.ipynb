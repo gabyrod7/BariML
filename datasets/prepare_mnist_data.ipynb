{
 "cells": [
  {
   "cell_type": "markdown",
   "metadata": {},
   "source": [
    "# Normalize and save MNIST data to a pickle file\n",
    " >__Created__: October 2019\n",
    " \n",
    "\n",
    "Prepare MNIST data in a convenient form\n"
   ]
  },
  {
   "cell_type": "code",
   "execution_count": 1,
   "metadata": {},
   "outputs": [],
   "source": [
    "import os, sys\n",
    "import pandas as pd\n",
    "import numpy as np\n",
    "from sklearn.externals import joblib"
   ]
  },
  {
   "cell_type": "markdown",
   "metadata": {},
   "source": [
    "### Load Images"
   ]
  },
  {
   "cell_type": "code",
   "execution_count": 3,
   "metadata": {},
   "outputs": [],
   "source": [
    "def loadImages(filename):\n",
    "    # read data into a dataframe (with 785 columns)\n",
    "    df = pd.read_csv(filename)\n",
    "    yy = []\n",
    "    xx = []\n",
    "    for m in range(len(df)):\n",
    "        T = df.iloc[m]   # pick row \"m\"\n",
    "        # T[0]:  target (0,..9)\n",
    "        # T[1:]: 784 pixel values\n",
    "        y = T[0]\n",
    "        x = T[1:].astype('float32')\n",
    "        yy.append(y)\n",
    "        xx.append(x)\n",
    "    # stack data vertically and normalize pixel \n",
    "    # values to unit interval\n",
    "    x = np.stack(xx) / 255.0\n",
    "    y = np.stack(yy)\n",
    "    return (x, y)"
   ]
  },
  {
   "cell_type": "markdown",
   "metadata": {},
   "source": [
    "### Decompress data, normalize, and save\n",
    "The decompression type is inferred from the file extension"
   ]
  },
  {
   "cell_type": "code",
   "execution_count": 6,
   "metadata": {},
   "outputs": [
    {
     "data": {
      "text/plain": [
       "['mnist_train.pkl']"
      ]
     },
     "execution_count": 6,
     "metadata": {},
     "output_type": "execute_result"
    }
   ],
   "source": [
    "train_x, train_y = loadImages('mnist_train.csv.gz')\n",
    "joblib.dump([train_x, train_y], 'mnist_train.pkl')"
   ]
  },
  {
   "cell_type": "code",
   "execution_count": 7,
   "metadata": {},
   "outputs": [
    {
     "name": "stdout",
     "output_type": "stream",
     "text": [
      "done!\n"
     ]
    }
   ],
   "source": [
    "test_x, test_y = loadImages('mnist_test.csv.gz')\n",
    "joblib.dump([test_x, test_y], 'mnist_test.pkl')\n",
    "print('done!')"
   ]
  },
  {
   "cell_type": "code",
   "execution_count": null,
   "metadata": {},
   "outputs": [],
   "source": []
  }
 ],
 "metadata": {
  "kernelspec": {
   "display_name": "Python 2",
   "language": "python",
   "name": "python2"
  },
  "language_info": {
   "codemirror_mode": {
    "name": "ipython",
    "version": 2
   },
   "file_extension": ".py",
   "mimetype": "text/x-python",
   "name": "python",
   "nbconvert_exporter": "python",
   "pygments_lexer": "ipython2",
   "version": "2.7.14"
  }
 },
 "nbformat": 4,
 "nbformat_minor": 1
}
